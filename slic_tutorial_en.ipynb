{
 "cells": [
  {
   "cell_type": "markdown",
   "metadata": {},
   "source": [
    "# SLIC Tutorial\n",
    "- In this hands-on, you implement SLIC, which is one of the methods of unsupervised segmentation.\n",
    "    - SLIC: Simple Linear Iterative Clustering ([paper](https://infoscience.epfl.ch/record/177415/files/Superpixel_PAMI2011-2.pdf))\n",
    "<div align=\"left\">\n",
    "<img src=\"figure/slic.JPG\", width=300, style=\"margin-left:0\">\n",
    "</div>\n",
    "\n",
    "    \n",
    "- You implement the following three parts of SLIC step by step:\n",
    "    - Task 1: Iinitialize the segments\n",
    "    - Task 2: Assign each pixel to a segment\n",
    "    - Task 3: Update the segments"
   ]
  },
  {
   "cell_type": "code",
   "execution_count": null,
   "metadata": {
    "collapsed": true
   },
   "outputs": [],
   "source": [
    "%matplotlib inline\n",
    "import numpy as np\n",
    "import skimage.data\n",
    "from skimage.util import img_as_float, regular_grid\n",
    "from skimage.color import rgb2lab\n",
    "from skimage.segmentation import mark_boundaries\n",
    "from matplotlib import pyplot as plt\n",
    "from tqdm import tqdm_notebook as tqdm"
   ]
  },
  {
   "cell_type": "markdown",
   "metadata": {},
   "source": [
    "## Load image\n",
    "- You can load your favorite image from skimage.data.\n",
    "- Color images (Recommended):\n",
    "    - astronaut\n",
    "    - chelsea\n",
    "    - coffee\n",
    "- Monochrome images:\n",
    "    - camera\n",
    "    - coins"
   ]
  },
  {
   "cell_type": "code",
   "execution_count": null,
   "metadata": {
    "collapsed": true
   },
   "outputs": [],
   "source": [
    "raw_img = skimage.data.chelsea()\n",
    "plt.imshow(raw_img)"
   ]
  },
  {
   "cell_type": "markdown",
   "metadata": {},
   "source": [
    "- Convert RGB to [Lab color space](https://en.wikipedia.org/wiki/Lab_color_space) if you chose color images.\n",
    "    - To make the distance in the color space close to that of human perception."
   ]
  },
  {
   "cell_type": "code",
   "execution_count": null,
   "metadata": {
    "collapsed": true
   },
   "outputs": [],
   "source": [
    "image = img_as_float(raw_img)  # Regularize the image into the range of 0-1\n",
    "if image.ndim == 2:  # Monochrome\n",
    "    image = image[..., np.newaxis] - 0.5\n",
    "else:  # Color\n",
    "    image = rgb2lab(raw_img)  # Convert to Lab color space\n",
    "    \n",
    "print(image.shape)"
   ]
  },
  {
   "cell_type": "markdown",
   "metadata": {},
   "source": [
    "## SLIC algorithm\n",
    "- Quite similar to k-means clustering. Assign each pixel to a segment (=cluster in k-means).\n",
    "- The point is the definition of distance: the (weighted) sum of spatial distance and color distance."
   ]
  },
  {
   "cell_type": "markdown",
   "metadata": {},
   "source": [
    "### Hyperparameters\n",
    "- n_segments: the number of segments. It corresponds to K in k-means clustering.\n",
    "- compactness: decides which of spatial distance and color distance we enphasize. The larger the compactness value is, the more we give weights to the spatial distance; therefore, each segment becomes more square.\n",
    "- max_iter: 10 is OK."
   ]
  },
  {
   "cell_type": "code",
   "execution_count": null,
   "metadata": {
    "collapsed": true
   },
   "outputs": [],
   "source": [
    "n_segments = 100\n",
    "compactness = 0.1  # Color->10, monochrome->0.1 will be good\n",
    "max_iter = 3  # Set to 10 for the best result"
   ]
  },
  {
   "cell_type": "markdown",
   "metadata": {},
   "source": [
    "## Task 1: Initialize the segments\n",
    "- Create an array \"segments\" which contains the center coordinates and the mean color values of each segment.\n",
    "\n",
    "- Requirements:\n",
    "    - 2-D array formed like:<br>[[y, x, color1, color2, color3],<br>[y, x, color1, color2, color3],<br>...]<br>\n",
    "    - Initialize x- and y-coordinates as in the following figure.\n",
    "        - $step = \\sqrt{\\frac{height \\, \\times \\, width}{n\\_segments}}$\n",
    "        - The final number of segments will sometimes be not equal to n_segments you defined above.\n",
    "    - Initialize all color values with 0.\n",
    "    - The order of the segments does not matter.\n",
    "<div align=\"left\">\n",
    "<img src=\"figure/init.png\", width=300, style=\"margin-left:0\">\n",
    "</div>"
   ]
  },
  {
   "cell_type": "code",
   "execution_count": null,
   "metadata": {
    "collapsed": true
   },
   "outputs": [],
   "source": [
    "height, width = image.shape[:2]\n",
    "step = int(np.sqrt(height * width) * 1.0 / n_segments)\n",
    "\n",
    "# WRITE ME!\n"
   ]
  },
  {
   "cell_type": "markdown",
   "metadata": {},
   "source": [
    "### Check"
   ]
  },
  {
   "cell_type": "code",
   "execution_count": null,
   "metadata": {
    "collapsed": true
   },
   "outputs": [],
   "source": [
    "print(segments.shape)\n",
    "\n",
    "plt.imshow(raw_img)\n",
    "plt.plot(segments[:, 1], segments[:, 0], 'o', color='r')"
   ]
  },
  {
   "cell_type": "markdown",
   "metadata": {},
   "source": [
    "## Task 2: Assign each pixel to a segment / Task 3: Update the segments\n",
    "- Implement the main two steps of SLIC.\n",
    "\n",
    "\n",
    "- Task 2: Assign each pixel to a segment \n",
    "    - Assign each pixel to the <u>**closest**</u> segment.\n",
    "$$\n",
    "\\begin{align}\n",
    "d &= \\sqrt{(d_{spatial} * compactness)^2 + d_{color}^2}, \\\\\n",
    "{\\rm where:} \\\\\n",
    "d_{spatial} &= \\frac{\\sqrt{(x-x_c)^2 + (y-y_c)^2}}{step} \\\\\n",
    "d_{color} &= \\sqrt{(l-l_c)^2 + (a-a_c)^2 + (b-b_c)^2} \\\\\n",
    "\\end{align}\n",
    "$$\n",
    "    - Save the results on \"nearest_segments.\"\n",
    "    - [Completed] search only the area close to the center of each segment.\n",
    "    - [Completed] break if no pixel changed its segment.\n",
    "    \n",
    "    \n",
    "- Task 3: Update the segments\n",
    "    - Compute the average of coordinates and color values of all pixels assigned to each segment, and write them to \"segments.\""
   ]
  },
  {
   "cell_type": "code",
   "execution_count": null,
   "metadata": {
    "collapsed": true
   },
   "outputs": [],
   "source": [
    "nearest_segments = np.empty((height, width), dtype=np.intp)\n",
    "n_segments = len(segments)  # Redefine"
   ]
  },
  {
   "cell_type": "code",
   "execution_count": null,
   "metadata": {
    "collapsed": true
   },
   "outputs": [],
   "source": [
    "for i in tqdm(range(max_iter)):\n",
    "    \n",
    "    # Task 2: Assign each pixel to a segment\n",
    "    distance = np.ones((height, width)) * 1e8  # Initialize with very large values\n",
    "    is_changed = False\n",
    "\n",
    "    for k in range(n_segments):\n",
    "        \n",
    "        # Center coordinates of the segment\n",
    "        cy = segments[k, 0]\n",
    "        cx = segments[k, 1]\n",
    "\n",
    "        # Search only the area close to the center of each segment\n",
    "        y_min = int(max(cy - 2 * step, 0))\n",
    "        y_max = int(min(cy + 2 * step + 1, height))\n",
    "        x_min = int(max(cx - 2 * step, 0))\n",
    "        x_max = int(min(cx + 2 * step + 1, width))\n",
    "\n",
    "        # Compute the distance and assigne to a segment\n",
    "        for y in range(y_min, y_max):\n",
    "            for x in range(x_min, x_max):\n",
    "                dist = # WRITE ME!\n",
    "\n",
    "                if dist < distance[y, x]:\n",
    "                    # WRITE ME!\n",
    "                    \n",
    "                    is_changed = True\n",
    "\n",
    "    # Break if no pixel changed its segment\n",
    "    if not is_changed:\n",
    "        break\n",
    "\n",
    "    # Task 3: Update the segments\n",
    "    # WRITE ME!\n",
    "        "
   ]
  },
  {
   "cell_type": "markdown",
   "metadata": {},
   "source": [
    "### Show the results"
   ]
  },
  {
   "cell_type": "code",
   "execution_count": null,
   "metadata": {
    "collapsed": true,
    "scrolled": false
   },
   "outputs": [],
   "source": [
    "plt.imshow(mark_boundaries(raw_img, nearest_segments))"
   ]
  },
  {
   "cell_type": "markdown",
   "metadata": {},
   "source": [
    "- Removing small disconnected regions make the results much better.\n",
    "    - Use a function of skimage."
   ]
  },
  {
   "cell_type": "code",
   "execution_count": null,
   "metadata": {
    "collapsed": true
   },
   "outputs": [],
   "source": [
    "from skimage.segmentation._slic import _enforce_label_connectivity_cython\n",
    "\n",
    "segment_size = height * width * 1.0 / n_segments\n",
    "min_size = int(0.5 * segment_size)\n",
    "max_size = int(3 * segment_size)\n",
    "\n",
    "improved_nearest_segments = _enforce_label_connectivity_cython(nearest_segments[np.newaxis, ...],\n",
    "                                                               n_segments,\n",
    "                                                               min_size,\n",
    "                                                               max_size)[0]\n",
    "\n",
    "plt.imshow(mark_boundaries(raw_img, improved_nearest_segments))"
   ]
  },
  {
   "cell_type": "markdown",
   "metadata": {},
   "source": [
    "### Reference\n",
    "- Implementation by skimage: \n",
    "    - [skimage.segmentation.slic](https://github.com/scikit-image/scikit-image/blob/master/skimage/segmentation/slic_superpixels.py)\n",
    "    - [_slic.pyx](https://github.com/scikit-image/scikit-image/blob/master/skimage/segmentation/_slic.pyx)\n",
    "- Original paper: [SLIC Superpixels Compared to State-of-the-art Superpixel Methods](https://infoscience.epfl.ch/record/177415/files/Superpixel_PAMI2011-2.pdf)"
   ]
  }
 ],
 "metadata": {
  "kernelspec": {
   "display_name": "Python 3",
   "language": "python",
   "name": "python3"
  },
  "language_info": {
   "codemirror_mode": {
    "name": "ipython",
    "version": 3
   },
   "file_extension": ".py",
   "mimetype": "text/x-python",
   "name": "python",
   "nbconvert_exporter": "python",
   "pygments_lexer": "ipython3",
   "version": "3.6.2"
  }
 },
 "nbformat": 4,
 "nbformat_minor": 2
}
