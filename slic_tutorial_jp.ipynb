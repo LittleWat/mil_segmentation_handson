{
 "cells": [
  {
   "cell_type": "markdown",
   "metadata": {},
   "source": [
    "# SLIC Tutorial\n",
    "- 本hands-onでは、教師なしセグメンテーション手法の1つであるSLICの実装を行う。\n",
    "    - SLIC: Simple Linear Iterative Clustering ([元論文](https://infoscience.epfl.ch/record/177415/files/Superpixel_PAMI2011-2.pdf))\n",
    "<div align=\"left\">\n",
    "<img src=\"figure/slic.JPG\", width=300, style=\"margin-left:0\">\n",
    "</div>\n",
    "    \n",
    "    \n",
    "- SLICの3つのステップを順番に実装していく。\n",
    "    - 課題1: セグメント初期化の実装\n",
    "    - 課題2: 各ピクセルのセグメントへの割り当ての実装\n",
    "    - 課題3: セグメント更新の実装"
   ]
  },
  {
   "cell_type": "code",
   "execution_count": null,
   "metadata": {
    "collapsed": true
   },
   "outputs": [],
   "source": [
    "%matplotlib inline\n",
    "import numpy as np\n",
    "import skimage.data\n",
    "from skimage.util import img_as_float, regular_grid\n",
    "from skimage.color import rgb2lab\n",
    "from skimage.segmentation import mark_boundaries\n",
    "from matplotlib import pyplot as plt\n",
    "from tqdm import tqdm_notebook as tqdm"
   ]
  },
  {
   "cell_type": "markdown",
   "metadata": {},
   "source": [
    "## 画像の読み込み\n",
    "- skimage.dataから好きな画像を読み込もう。\n",
    "- カラーで良い感じの画像リスト (推奨):\n",
    "    - astronaut\n",
    "    - chelsea (猫)\n",
    "    - coffee\n",
    "- モノクロで良い感じの画像リスト:\n",
    "    - camera\n",
    "    - coins"
   ]
  },
  {
   "cell_type": "code",
   "execution_count": null,
   "metadata": {
    "collapsed": true
   },
   "outputs": [],
   "source": [
    "raw_img = skimage.data.chelsea()\n",
    "plt.imshow(raw_img)"
   ]
  },
  {
   "cell_type": "markdown",
   "metadata": {},
   "source": [
    "- カラー画像の場合、RGB空間から[Lab空間](https://ja.wikipedia.org/wiki/Lab%E8%89%B2%E7%A9%BA%E9%96%93)に変換する。\n",
    "    - 色空間内での距離を人間の知覚と近くするため"
   ]
  },
  {
   "cell_type": "code",
   "execution_count": null,
   "metadata": {
    "collapsed": true
   },
   "outputs": [],
   "source": [
    "image = img_as_float(raw_img)  # 0〜1のfloatに変換\n",
    "if image.ndim == 2:  # モノクロ\n",
    "    image = image[..., np.newaxis] - 0.5\n",
    "else:  # カラー\n",
    "    image = rgb2lab(raw_img)  # Lab空間に変換\n",
    "    \n",
    "print(image.shape)"
   ]
  },
  {
   "cell_type": "markdown",
   "metadata": {},
   "source": [
    "## SLIC algorithm\n",
    "- ほぼk-means。各ピクセルをセグメント (=k-meansで言うクラスタ) に割り振っていく。\n",
    "- 距離の定義がポイント。座標距離と色距離の和。"
   ]
  },
  {
   "cell_type": "markdown",
   "metadata": {},
   "source": [
    "### ハイパーパラメータ\n",
    "- n_segments: セグメント数。k-meansで言うところのクラスタ数K。\n",
    "- compactness: 座標距離と色距離のどちらを重視するかを決められる。compactnessが大きいほど座標距離を重視するため、各セグメントが正方形に近くなる。\n",
    "- max_iter: 10でOK。"
   ]
  },
  {
   "cell_type": "code",
   "execution_count": null,
   "metadata": {
    "collapsed": true
   },
   "outputs": [],
   "source": [
    "n_segments = 100\n",
    "compactness = 0.1  # カラー画像->10, モノクロ画像->0.1くらいが良い\n",
    "max_iter = 3  # 10が一般的。時間がかかるので最初は3で"
   ]
  },
  {
   "cell_type": "markdown",
   "metadata": {},
   "source": [
    "## 課題1: セグメントの初期化\n",
    "- 各セグメントの中心座標と色の平均が入った配列segmentsを作成する。\n",
    "\n",
    "\n",
    "- 要求仕様:\n",
    "    - [[セグメント1のy座標, x座標, 色1, 色2, 色3],<br>[セグメント2のy座標, x座標, 色1, 色2, 色3],<br>...]<br>という形式の2次元配列にする。\n",
    "    - x座標とy座標は下図のような等間隔の格子状に初期化する。\n",
    "        - 間隔は、$step = \\sqrt{\\frac{height \\, \\times \\, width}{n\\_segments}}$\n",
    "        - 最終的なセグメント数は上で指定したn_segmentsと同じにならないこともある。\n",
    "    - 色は全て0で初期化する。\n",
    "    - セグメントの順番は問わない。 \n",
    "<div align=\"left\">\n",
    "<img src=\"figure/init.png\", width=300, style=\"margin-left:0\">\n",
    "</div>"
   ]
  },
  {
   "cell_type": "code",
   "execution_count": null,
   "metadata": {
    "collapsed": true
   },
   "outputs": [],
   "source": [
    "height, width = image.shape[:2]\n",
    "step = int(np.sqrt(height * width) * 1.0 / n_segments)\n",
    "\n",
    "# WRITE ME!\n"
   ]
  },
  {
   "cell_type": "markdown",
   "metadata": {},
   "source": [
    "### 確認"
   ]
  },
  {
   "cell_type": "code",
   "execution_count": null,
   "metadata": {
    "collapsed": true
   },
   "outputs": [],
   "source": [
    "print(segments.shape)\n",
    "\n",
    "plt.imshow(raw_img)\n",
    "plt.plot(segments[:, 1], segments[:, 0], 'o', color='r')"
   ]
  },
  {
   "cell_type": "markdown",
   "metadata": {},
   "source": [
    "## 課題2: 各ピクセルのセグメントへの割り当て / 課題3: セグメントの更新\n",
    "- SLICのメインパートである2ステップを実装する。\n",
    "\n",
    "\n",
    "- 課題2: 各ピクセルのセグメントへの割り当て\n",
    "    - <u>**距離**</u>が最も近いセグメントに割り当てる。\n",
    "$$\n",
    "\\begin{align}\n",
    "d &= \\sqrt{(d_{spatial} * compactness)^2 + d_{color}^2}, \\\\\n",
    "{\\rm where:} \\\\\n",
    "d_{spatial} &= \\frac{\\sqrt{(x-x_c)^2 + (y-y_c)^2}}{step} \\\\\n",
    "d_{color} &= \\sqrt{(l-l_c)^2 + (a-a_c)^2 + (b-b_c)^2} \\\\\n",
    "\\end{align}\n",
    "$$\n",
    "    - 割り当て結果はnearest_segmentsに保存。\n",
    "    - [実装済] 探索範囲は、各セグメントの中心の近傍のみ。\n",
    "    - [実装済] 1点も更新されなかったらbreak。\n",
    "    \n",
    "    \n",
    "- 課題3: セグメントの更新\n",
    "    - 各segmentに割り当てられた全ての点の平均座標・色を計算し、segmentsに代入する。"
   ]
  },
  {
   "cell_type": "code",
   "execution_count": null,
   "metadata": {
    "collapsed": true
   },
   "outputs": [],
   "source": [
    "nearest_segments = np.empty((height, width), dtype=np.intp)\n",
    "n_segments = len(segments)  # 再定義"
   ]
  },
  {
   "cell_type": "code",
   "execution_count": null,
   "metadata": {
    "collapsed": true
   },
   "outputs": [],
   "source": [
    "for i in tqdm(range(max_iter)):\n",
    "    \n",
    "    # 課題2: 各ピクセルをセグメントに割り当てる\n",
    "    distance = np.ones((height, width)) * 1e8  # 距離格納用。めっちゃデカい初期値\n",
    "    is_changed = False\n",
    "\n",
    "    for k in range(n_segments):\n",
    "        \n",
    "        # セグメントの中心座標\n",
    "        cy = segments[k, 0]\n",
    "        cx = segments[k, 1]\n",
    "\n",
    "        # 探索範囲はセグメント中心の近傍のみ\n",
    "        y_min = int(max(cy - 2 * step, 0))\n",
    "        y_max = int(min(cy + 2 * step + 1, height))\n",
    "        x_min = int(max(cx - 2 * step, 0))\n",
    "        x_max = int(min(cx + 2 * step + 1, width))\n",
    "\n",
    "        # 距離を計算してセグメントに割り当てる\n",
    "        for y in range(y_min, y_max):\n",
    "            for x in range(x_min, x_max):\n",
    "                dist = # WRITE ME!\n",
    "\n",
    "                if dist < distance[y, x]:\n",
    "                    # WRITE ME!\n",
    "                    \n",
    "                    is_changed = True\n",
    "\n",
    "    # 1点も更新されなかったらbreak\n",
    "    if not is_changed:\n",
    "        break\n",
    "\n",
    "    # 課題3: セグメントを更新する\n",
    "    # WRITE ME!\n",
    "        "
   ]
  },
  {
   "cell_type": "markdown",
   "metadata": {},
   "source": [
    "### 結果の表示"
   ]
  },
  {
   "cell_type": "code",
   "execution_count": null,
   "metadata": {
    "collapsed": true,
    "scrolled": false
   },
   "outputs": [],
   "source": [
    "plt.imshow(mark_boundaries(raw_img, nearest_segments))"
   ]
  },
  {
   "cell_type": "markdown",
   "metadata": {},
   "source": [
    "- 小さい不連続な領域を除去する処理を行うとさらに綺麗になる。\n",
    "    - skimageの関数を拝借"
   ]
  },
  {
   "cell_type": "code",
   "execution_count": null,
   "metadata": {
    "collapsed": true
   },
   "outputs": [],
   "source": [
    "from skimage.segmentation._slic import _enforce_label_connectivity_cython\n",
    "\n",
    "segment_size = height * width * 1.0 / n_segments\n",
    "min_size = int(0.5 * segment_size)\n",
    "max_size = int(3 * segment_size)\n",
    "\n",
    "improved_nearest_segments = _enforce_label_connectivity_cython(nearest_segments[np.newaxis, ...],\n",
    "                                                               n_segments,\n",
    "                                                               min_size,\n",
    "                                                               max_size)[0]\n",
    "\n",
    "plt.imshow(mark_boundaries(raw_img, improved_nearest_segments))"
   ]
  },
  {
   "cell_type": "markdown",
   "metadata": {},
   "source": [
    "### 参考資料\n",
    "- skimageの実装: \n",
    "    - [skimage.segmentation.slic](https://github.com/scikit-image/scikit-image/blob/master/skimage/segmentation/slic_superpixels.py)\n",
    "    - [_slic.pyx](https://github.com/scikit-image/scikit-image/blob/master/skimage/segmentation/_slic.pyx)\n",
    "- 元論文: [SLIC Superpixels Compared to State-of-the-art Superpixel Methods](https://infoscience.epfl.ch/record/177415/files/Superpixel_PAMI2011-2.pdf)"
   ]
  }
 ],
 "metadata": {
  "kernelspec": {
   "display_name": "Python 3",
   "language": "python",
   "name": "python3"
  },
  "language_info": {
   "codemirror_mode": {
    "name": "ipython",
    "version": 3
   },
   "file_extension": ".py",
   "mimetype": "text/x-python",
   "name": "python",
   "nbconvert_exporter": "python",
   "pygments_lexer": "ipython3",
   "version": "3.6.2"
  }
 },
 "nbformat": 4,
 "nbformat_minor": 2
}
